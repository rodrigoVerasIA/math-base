{
 "cells": [
  {
   "cell_type": "code",
   "execution_count": 1,
   "id": "63f5c6ed",
   "metadata": {},
   "outputs": [],
   "source": [
    "import numpy as np"
   ]
  },
  {
   "cell_type": "code",
   "execution_count": null,
   "id": "59537dba",
   "metadata": {},
   "outputs": [],
   "source": [
    "# Scalar\n",
    "x = 5"
   ]
  },
  {
   "cell_type": "markdown",
   "id": "13ee29bf",
   "metadata": {
    "vscode": {
     "languageId": "plaintext"
    }
   },
   "source": [
    "Vectors\n",
    "\n",
    "A vector is a 1D array of number\n",
    "Could represent features"
   ]
  },
  {
   "cell_type": "code",
   "execution_count": 2,
   "id": "42631c3e",
   "metadata": {},
   "outputs": [
    {
     "name": "stdout",
     "output_type": "stream",
     "text": [
      "[1 2 3]\n"
     ]
    }
   ],
   "source": [
    "vector = np.array([1, 2, 3])\n",
    "print(vector)"
   ]
  },
  {
   "cell_type": "markdown",
   "id": "f13e18e1",
   "metadata": {},
   "source": [
    "Matrices\n",
    "\n",
    "* 2D array\n",
    "* A dataset where each row is an observation, and each column is a feature\n",
    "* Use case: Input to ML algorithms like linear regression: X in y = Xβ."
   ]
  },
  {
   "cell_type": "code",
   "execution_count": null,
   "id": "7f18a796",
   "metadata": {},
   "outputs": [],
   "source": [
    "matrix = np.array([[1, 2, 3], [4, 5, 6]])\n",
    "print(matrix)"
   ]
  },
  {
   "cell_type": "markdown",
   "id": "ef68450d",
   "metadata": {},
   "source": [
    "Tensors\n",
    "\n",
    "* Generalization of vectors/matrices to N-dimensions.\n",
    "* Example: An RGB image is a 3D tensor: height × width × color channels.\n",
    "* Use case: Deep learning (e.g., 4D tensors for batches of images in CNNs)."
   ]
  },
  {
   "cell_type": "code",
   "execution_count": 4,
   "id": "9bd0f3b1",
   "metadata": {},
   "outputs": [
    {
     "name": "stdout",
     "output_type": "stream",
     "text": [
      "tensor([[[[ 3.6870e-01,  3.4645e-01, -1.5860e-01,  ...,  1.0869e+00,\n",
      "           -1.3133e+00, -1.8788e-02],\n",
      "          [-1.0569e+00,  6.0401e-01, -8.8289e-01,  ...,  4.0370e-01,\n",
      "           -6.8026e-04,  7.8017e-01],\n",
      "          [-1.1334e+00, -2.1036e-01,  5.8480e-01,  ..., -1.6988e+00,\n",
      "            6.5886e-01,  1.7250e-01],\n",
      "          ...,\n",
      "          [ 9.0987e-03,  4.1557e-01,  2.0305e-01,  ..., -2.5044e-01,\n",
      "           -5.5910e-02, -1.5593e+00],\n",
      "          [ 3.0070e-01,  1.2757e+00,  1.8110e-01,  ..., -1.6336e-01,\n",
      "           -1.8984e+00,  4.5737e-01],\n",
      "          [-1.8779e-01, -1.6371e-01,  6.7429e-01,  ...,  1.1197e+00,\n",
      "            1.0895e+00,  1.8718e-01]],\n",
      "\n",
      "         [[-3.1924e-01,  3.8725e-01, -4.5586e-01,  ...,  3.4799e-01,\n",
      "           -9.7836e-01, -5.8219e-01],\n",
      "          [-1.8021e-01,  2.8013e-01, -8.1512e-01,  ..., -7.1952e-01,\n",
      "            1.6753e+00,  1.5934e+00],\n",
      "          [ 8.1258e-01, -3.8298e-01,  1.5132e+00,  ...,  6.4119e-01,\n",
      "           -8.6797e-01,  1.5789e-01],\n",
      "          ...,\n",
      "          [ 1.7287e-03,  2.4167e+00,  4.9046e-01,  ...,  1.8407e-01,\n",
      "           -4.8660e-02,  1.7684e-02],\n",
      "          [ 1.7084e+00, -1.1055e+00,  3.8748e-01,  ...,  2.4574e-01,\n",
      "           -1.8808e+00,  5.5998e-01],\n",
      "          [ 1.2590e+00,  1.4512e+00,  1.2129e+00,  ..., -1.0423e+00,\n",
      "           -1.0431e+00, -6.9355e-01]],\n",
      "\n",
      "         [[-2.6257e-01,  1.4115e+00, -1.4946e+00,  ...,  1.1251e+00,\n",
      "           -1.0173e+00,  1.3802e-01],\n",
      "          [-1.3817e+00,  7.7798e-01,  4.3523e-01,  ..., -2.1865e-01,\n",
      "           -6.5751e-01, -2.5159e-01],\n",
      "          [ 1.2477e+00,  4.4914e-01, -1.0557e-01,  ...,  1.8000e-01,\n",
      "            1.0045e+00, -1.4101e+00],\n",
      "          ...,\n",
      "          [-4.7145e-01,  4.8660e-01, -1.1647e-01,  ...,  1.3959e+00,\n",
      "            5.1900e-01,  1.9509e+00],\n",
      "          [-1.5362e+00,  7.4410e-01,  1.8999e-01,  ...,  3.0268e-01,\n",
      "           -8.4598e-01, -7.3559e-01],\n",
      "          [-1.5370e+00, -7.2640e-01,  1.4341e+00,  ...,  9.8125e-01,\n",
      "           -4.8896e-02, -1.4646e+00]]],\n",
      "\n",
      "\n",
      "        [[[-1.7387e+00,  1.0677e+00,  1.3830e+00,  ..., -1.2923e+00,\n",
      "            8.7810e-01, -7.7690e-01],\n",
      "          [ 2.1708e-02, -8.0305e-01,  1.0893e+00,  ..., -1.8460e-01,\n",
      "            1.0283e+00,  3.1263e+00],\n",
      "          [ 1.4867e+00, -1.4981e-01,  2.0713e+00,  ..., -3.6565e-02,\n",
      "           -2.2503e-01, -2.3222e-01],\n",
      "          ...,\n",
      "          [-7.4282e-01,  8.2732e-01, -1.7432e-01,  ...,  1.7902e+00,\n",
      "            4.3038e-01, -2.1207e-01],\n",
      "          [ 1.0375e+00, -1.9663e-01,  1.6263e-01,  ...,  4.9300e-01,\n",
      "            9.8400e-01, -7.4251e-01],\n",
      "          [-6.0707e-01,  1.0134e-01, -9.8236e-01,  ..., -2.4918e-01,\n",
      "            2.9157e-01,  2.7182e-01]],\n",
      "\n",
      "         [[ 1.0607e-01,  3.2068e-02, -1.2267e+00,  ...,  3.5177e-01,\n",
      "            6.1527e-01,  9.1108e-01],\n",
      "          [ 5.8309e-01,  4.6607e-01,  1.4501e+00,  ..., -7.3728e-01,\n",
      "           -5.2011e-01,  1.9015e+00],\n",
      "          [-1.0778e+00,  5.3747e-01,  7.3677e-01,  ...,  1.0680e+00,\n",
      "            1.0064e+00, -1.3286e+00],\n",
      "          ...,\n",
      "          [-4.5626e-01, -1.0595e+00,  1.9987e-01,  ..., -1.1597e-01,\n",
      "           -1.9914e-01,  3.2500e-01],\n",
      "          [ 2.8725e-01, -1.2616e+00,  8.4682e-01,  ...,  8.0967e-01,\n",
      "            3.6797e-01, -5.6077e-01],\n",
      "          [ 3.3321e-01, -6.6246e-02, -2.6772e-01,  ..., -1.3728e+00,\n",
      "           -5.5392e-01, -2.0598e+00]],\n",
      "\n",
      "         [[ 2.3593e-01, -1.3475e+00,  6.3970e-02,  ...,  7.9728e-01,\n",
      "            1.0495e+00,  2.1289e+00],\n",
      "          [-8.5156e-01, -2.8959e-01, -2.2382e+00,  ..., -1.4232e-01,\n",
      "            4.2276e-01, -7.6482e-01],\n",
      "          [ 1.0585e+00, -8.1475e-03, -3.9966e-01,  ..., -1.5857e+00,\n",
      "           -1.1590e+00,  1.3673e+00],\n",
      "          ...,\n",
      "          [-8.3862e-01, -3.2640e-02, -4.9693e-01,  ..., -7.0043e-01,\n",
      "            1.8813e+00,  7.8442e-01],\n",
      "          [-1.4208e+00, -6.5059e-01,  1.6774e-01,  ..., -1.6972e+00,\n",
      "           -1.3774e+00,  9.7070e-01],\n",
      "          [-9.8791e-01, -5.6538e-01, -2.5559e-01,  ..., -1.7321e+00,\n",
      "            4.5492e-01, -1.3958e+00]]],\n",
      "\n",
      "\n",
      "        [[[-3.0932e-03,  3.7012e-01,  2.4601e-01,  ...,  1.5342e-01,\n",
      "           -8.1119e-01, -1.5340e+00],\n",
      "          [ 1.3049e+00,  2.8425e-03, -1.7167e-02,  ...,  5.7237e-01,\n",
      "           -1.3637e+00,  2.6175e-01],\n",
      "          [ 2.3463e+00,  7.0021e-01, -3.0416e-01,  ..., -3.2806e-01,\n",
      "            7.3467e-01, -1.0230e-02],\n",
      "          ...,\n",
      "          [-7.6961e-02, -8.1584e-01,  4.3486e-01,  ...,  4.1974e-01,\n",
      "           -3.0268e-01,  6.9294e-02],\n",
      "          [ 1.3447e-01, -3.5657e-01,  2.0793e+00,  ..., -2.6216e+00,\n",
      "           -1.8409e-01,  9.4452e-01],\n",
      "          [ 1.2859e+00, -1.2983e+00,  1.8483e-01,  ..., -1.2995e+00,\n",
      "            1.2719e+00, -1.1975e+00]],\n",
      "\n",
      "         [[-9.0635e-01,  6.4004e-02,  8.8217e-01,  ..., -1.5028e-01,\n",
      "           -1.2739e+00, -1.8408e+00],\n",
      "          [ 2.6726e-01,  1.0077e+00, -1.9211e+00,  ..., -6.3011e-01,\n",
      "           -1.0929e+00,  6.0760e-03],\n",
      "          [-1.0445e+00, -1.1389e+00,  1.8844e-01,  ...,  1.1333e+00,\n",
      "            3.5675e-02, -2.7218e-01],\n",
      "          ...,\n",
      "          [ 1.7976e-01,  1.3910e+00,  8.3182e-01,  ...,  1.3604e+00,\n",
      "           -2.8593e-01,  2.4710e+00],\n",
      "          [ 3.3518e-01,  6.2469e-01, -1.4637e-01,  ..., -4.0885e-01,\n",
      "           -4.7325e-01, -8.9416e-01],\n",
      "          [ 1.7182e-01,  9.7934e-01, -6.4841e-01,  ...,  3.1605e-01,\n",
      "            3.5922e-01,  9.4011e-01]],\n",
      "\n",
      "         [[-2.3433e-01, -6.8982e-01,  2.6958e+00,  ..., -5.4314e-01,\n",
      "            8.6403e-01, -6.0828e-01],\n",
      "          [-2.3058e-01,  6.2508e-01, -1.3627e+00,  ...,  8.9726e-01,\n",
      "           -9.8763e-01, -2.0399e+00],\n",
      "          [-8.5333e-02, -6.9166e-01,  1.5546e+00,  ..., -1.4571e+00,\n",
      "           -1.0320e+00, -1.2043e+00],\n",
      "          ...,\n",
      "          [ 9.6014e-01, -4.5351e-01,  1.0374e+00,  ...,  1.6999e+00,\n",
      "            5.8559e-02,  6.6984e-01],\n",
      "          [ 5.6120e-01,  4.5057e-01,  8.5276e-01,  ...,  1.6610e+00,\n",
      "            1.0680e+00,  2.5378e-01],\n",
      "          [-2.0082e+00,  1.5584e+00, -2.3583e-01,  ...,  8.5561e-01,\n",
      "            1.5440e+00,  1.3339e+00]]],\n",
      "\n",
      "\n",
      "        ...,\n",
      "\n",
      "\n",
      "        [[[-6.0508e-01,  8.4138e-01, -1.2549e+00,  ..., -6.3312e-01,\n",
      "           -2.5020e+00, -2.6747e-01],\n",
      "          [-2.7543e-01,  4.8372e-02,  7.0598e-01,  ..., -5.5980e-01,\n",
      "            1.4864e+00, -7.0739e-01],\n",
      "          [-3.6524e-01,  1.9558e+00,  9.3385e-02,  ..., -1.9093e+00,\n",
      "            1.6175e+00,  7.4880e-01],\n",
      "          ...,\n",
      "          [-6.3948e-01,  2.3999e-01,  2.1252e-02,  ..., -4.1876e-01,\n",
      "           -1.9561e+00,  2.9898e-01],\n",
      "          [-6.5890e-01,  1.5895e+00,  9.1368e-02,  ...,  7.6633e-01,\n",
      "           -1.0750e+00, -9.1447e-01],\n",
      "          [-3.2407e-01,  1.2978e+00,  9.1721e-01,  ...,  2.8609e-02,\n",
      "           -4.1759e-01,  8.7705e-02]],\n",
      "\n",
      "         [[ 7.6859e-01,  1.1928e+00,  1.0564e-03,  ..., -6.9973e-01,\n",
      "           -9.5295e-01,  8.7811e-01],\n",
      "          [-5.7414e-01, -2.3242e+00,  1.9482e+00,  ...,  2.3322e-01,\n",
      "           -1.2589e+00, -1.5850e-02],\n",
      "          [ 1.6486e+00, -1.4668e-01,  4.9897e-01,  ...,  5.6253e-01,\n",
      "           -7.0367e-01, -1.6587e+00],\n",
      "          ...,\n",
      "          [-9.7950e-01,  8.8639e-01, -1.1892e+00,  ...,  4.1373e-01,\n",
      "            5.6109e-01, -4.4178e-01],\n",
      "          [-6.4999e-01,  3.3290e-01, -5.2849e-01,  ...,  1.7005e-01,\n",
      "           -1.8509e-02,  3.0645e-01],\n",
      "          [-8.3522e-01,  2.6089e-01, -3.2033e-02,  ...,  2.9208e-01,\n",
      "            1.8661e-01, -2.8208e-01]],\n",
      "\n",
      "         [[-3.8174e-01, -3.4326e-01,  7.8174e-01,  ..., -1.5236e+00,\n",
      "            8.2551e-01,  1.1161e+00],\n",
      "          [ 5.0067e-01, -1.0354e+00, -3.1902e-01,  ...,  2.4102e-02,\n",
      "            1.6261e+00,  3.9773e-01],\n",
      "          [-1.8915e+00, -7.8398e-01,  1.1355e+00,  ..., -9.3802e-01,\n",
      "           -6.2508e-01,  4.0100e-01],\n",
      "          ...,\n",
      "          [-1.1053e+00,  6.1236e-01, -2.0292e+00,  ...,  2.1699e-01,\n",
      "            6.5443e-01, -8.5871e-01],\n",
      "          [ 3.1385e-01,  6.2646e-01,  2.7286e-01,  ..., -1.1315e-01,\n",
      "            2.3098e-01,  3.8993e-01],\n",
      "          [-4.1833e-01, -3.7222e-01,  1.7140e-01,  ..., -1.4420e+00,\n",
      "           -5.3210e-01, -9.2652e-01]]],\n",
      "\n",
      "\n",
      "        [[[ 9.3768e-01,  3.2200e+00, -5.6012e-01,  ..., -7.7163e-01,\n",
      "            3.8392e-01, -4.0685e-01],\n",
      "          [-1.4814e+00,  1.7101e+00,  2.3881e-03,  ...,  1.3823e+00,\n",
      "            7.8507e-01, -6.3559e-01],\n",
      "          [-1.2544e+00,  6.7833e-01, -5.2794e-01,  ...,  8.5238e-02,\n",
      "            9.3966e-01,  7.7316e-01],\n",
      "          ...,\n",
      "          [-3.9782e-01, -2.6487e-01,  9.4542e-01,  ..., -1.3786e-01,\n",
      "           -9.2586e-01,  2.9265e-01],\n",
      "          [-3.9639e-01, -1.4596e+00, -2.0553e+00,  ..., -1.5533e-02,\n",
      "            7.6236e-01,  2.7082e-01],\n",
      "          [ 5.7427e-01,  4.6937e-01, -1.9477e-01,  ..., -3.7581e-01,\n",
      "            1.5296e+00,  8.6610e-01]],\n",
      "\n",
      "         [[-3.4497e-01, -7.8953e-01, -4.5164e-01,  ...,  2.7547e-01,\n",
      "            1.1461e+00, -7.7411e-02],\n",
      "          [ 3.3261e-02, -1.1917e+00, -1.9875e-01,  ..., -1.1769e-01,\n",
      "            2.0968e+00,  4.1599e-01],\n",
      "          [ 5.8411e-01, -1.5124e+00,  1.5147e+00,  ...,  7.5604e-01,\n",
      "           -9.7540e-01,  4.0589e-01],\n",
      "          ...,\n",
      "          [-2.2346e-01,  4.4804e-01,  2.4472e+00,  ...,  8.0884e-01,\n",
      "            1.1635e+00, -5.6124e-01],\n",
      "          [-5.9142e-01,  8.1301e-01,  1.2048e+00,  ...,  2.3796e-01,\n",
      "            4.2533e-01,  1.3661e+00],\n",
      "          [-5.0033e-01, -5.4415e-01,  1.8779e-01,  ..., -9.1568e-01,\n",
      "           -1.5422e+00,  9.0919e-01]],\n",
      "\n",
      "         [[ 4.0135e-01, -2.1804e-01,  8.2167e-01,  ...,  3.3106e-01,\n",
      "            1.3564e+00,  1.6173e+00],\n",
      "          [-1.1153e+00,  4.1482e-01,  6.3857e-02,  ...,  6.8556e-01,\n",
      "            8.1114e-01,  8.7692e-01],\n",
      "          [-1.3092e+00,  3.6751e-01, -5.0320e-02,  ...,  4.8019e-01,\n",
      "            5.6811e-02, -9.9210e-01],\n",
      "          ...,\n",
      "          [ 6.3940e-01,  1.1300e-01, -1.1134e+00,  ...,  3.0571e-01,\n",
      "            4.2966e-01, -1.9536e+00],\n",
      "          [-1.0357e-01,  2.4495e-01, -1.8016e+00,  ...,  3.2233e-01,\n",
      "            2.9280e-01, -1.4992e+00],\n",
      "          [ 1.1459e+00, -1.9105e+00,  2.5415e-01,  ..., -2.4976e+00,\n",
      "            5.6395e-01, -1.0494e+00]]],\n",
      "\n",
      "\n",
      "        [[[-5.1186e-01, -8.5582e-01,  2.5149e-01,  ...,  1.4704e-01,\n",
      "            4.4438e-02,  8.6654e-02],\n",
      "          [-6.0206e-01,  5.3798e-01,  5.5507e-01,  ..., -7.4959e-02,\n",
      "            1.1271e+00,  1.3193e+00],\n",
      "          [ 7.7379e-01, -2.2095e-01,  7.8806e-01,  ...,  1.9513e+00,\n",
      "           -8.8792e-01,  8.2579e-02],\n",
      "          ...,\n",
      "          [ 5.9475e-01, -2.2665e+00, -3.6887e-01,  ...,  8.9561e-01,\n",
      "            6.3930e-01,  1.1732e+00],\n",
      "          [-9.3194e-01,  5.3936e-01,  1.2413e+00,  ..., -4.1920e-01,\n",
      "           -5.7600e-01, -8.7266e-01],\n",
      "          [-1.0263e+00,  2.3187e-01,  1.2598e+00,  ...,  5.8101e-02,\n",
      "            1.3752e+00,  6.3606e-01]],\n",
      "\n",
      "         [[ 7.4204e-01,  8.7533e-01,  5.3746e-01,  ...,  1.7386e-01,\n",
      "            3.9824e-01,  7.6367e-01],\n",
      "          [ 1.5588e+00, -1.6883e+00,  2.1138e+00,  ..., -1.1614e+00,\n",
      "            9.6774e-01, -2.4794e+00],\n",
      "          [-7.7744e-02,  2.9427e-01,  1.1777e+00,  ...,  8.7909e-02,\n",
      "           -3.8252e-01, -5.0301e-01],\n",
      "          ...,\n",
      "          [ 1.4662e+00,  1.2890e+00, -8.0517e-01,  ..., -1.6221e-01,\n",
      "            7.9372e-01, -8.4642e-01],\n",
      "          [-5.6282e-01,  8.0772e-01,  1.8238e-01,  ..., -6.0376e-01,\n",
      "            3.7245e-01,  5.6335e-01],\n",
      "          [-9.1774e-01, -6.0092e-01,  7.2514e-01,  ...,  1.1310e+00,\n",
      "            2.2482e-01, -5.2437e-01]],\n",
      "\n",
      "         [[-1.0198e+00, -2.8708e+00,  1.3670e+00,  ...,  6.6979e-01,\n",
      "           -4.9439e-01, -2.6932e-01],\n",
      "          [-9.8152e-01, -2.0438e+00,  3.6411e-01,  ..., -1.3399e+00,\n",
      "           -1.2791e+00, -1.0804e+00],\n",
      "          [ 1.1204e+00, -1.5969e+00, -1.0052e+00,  ..., -4.4146e-01,\n",
      "            4.0592e-01, -8.0227e-01],\n",
      "          ...,\n",
      "          [-2.5441e-01, -8.5580e-01,  4.1471e-01,  ...,  3.4062e-01,\n",
      "           -1.1680e+00,  2.9574e-01],\n",
      "          [-7.8092e-01, -1.0682e-02, -1.7925e+00,  ..., -2.8049e-01,\n",
      "            1.7180e-01, -4.7744e-01],\n",
      "          [ 1.0492e+00,  1.5979e-01, -1.2669e+00,  ..., -1.4506e+00,\n",
      "            1.7972e+00,  1.1287e+00]]]])\n",
      "torch.Size([8, 3, 32, 32])\n"
     ]
    }
   ],
   "source": [
    "import torch as tr\n",
    "\n",
    "tensor_torch = tr.randn(8, 3, 32, 32)\n",
    "\n",
    "print(tensor_torch)\n",
    "print(tensor_torch.shape)\n"
   ]
  },
  {
   "cell_type": "code",
   "execution_count": null,
   "id": "35a79253",
   "metadata": {},
   "outputs": [
    {
     "name": "stderr",
     "output_type": "stream",
     "text": [
      "Clipping input data to the valid range for imshow with RGB data ([0..1] for floats or [0..255] for integers). Got range [-3.3034582..3.1988087].\n",
      "Clipping input data to the valid range for imshow with RGB data ([0..1] for floats or [0..255] for integers). Got range [-3.4485126..3.4245772].\n",
      "Clipping input data to the valid range for imshow with RGB data ([0..1] for floats or [0..255] for integers). Got range [-3.5440135..3.2695158].\n",
      "Clipping input data to the valid range for imshow with RGB data ([0..1] for floats or [0..255] for integers). Got range [-4.338163..3.695913].\n"
     ]
    },
    {
     "data": {
      "image/png": "[encoded data removed]",
      "text/plain": [
       "<Figure size 1200x400 with 4 Axes>"
      ]
     },
     "metadata": {},
     "output_type": "display_data"
    }
   ],
   "source": [
    "import matplotlib.pyplot as plt\n",
    "\n",
    "# Convert the 4D tensor to a batch of RGB images\n",
    "images = tensor_torch.permute(0, 2, 3, 1).numpy()\n",
    "\n",
    "# Plot all 4 images\n",
    "fig, axs = plt.subplots(1, 4, figsize=(12, 4))\n",
    "for i in range(4):\n",
    "  axs[i].imshow(images[i])\n",
    "  axs[i].set_title(f\"Image {i}\")\n",
    "  axs[i].axis('off')\n",
    "\n",
    "plt.suptitle(\"Batch of RGB Images from 4D Tensor (4 × 3 × 32 × 32)\")\n",
    "plt.show()"
   ]
  },
  {
   "cell_type": "markdown",
   "id": "e6d3441c",
   "metadata": {},
   "source": [
    "Vector and matrices operations"
   ]
  },
  {
   "cell_type": "markdown",
   "id": "9be5cb21",
   "metadata": {},
   "source": [
    "Sum vectors 1D + 1D"
   ]
  },
  {
   "cell_type": "code",
   "execution_count": 6,
   "id": "20b869ed",
   "metadata": {},
   "outputs": [
    {
     "name": "stdout",
     "output_type": "stream",
     "text": [
      "[5 7 9]\n"
     ]
    }
   ],
   "source": [
    "a = np.array([1, 2, 3])\n",
    "b = np.array([4, 5, 6])\n",
    "\n",
    "c = a + b\n",
    "print(c)"
   ]
  },
  {
   "cell_type": "markdown",
   "id": "16cfc888",
   "metadata": {},
   "source": [
    "Subtraction vector 1D - 1D"
   ]
  },
  {
   "cell_type": "code",
   "execution_count": 8,
   "id": "5bc48716",
   "metadata": {},
   "outputs": [
    {
     "name": "stdout",
     "output_type": "stream",
     "text": [
      "[ 2 -9 -2]\n"
     ]
    }
   ],
   "source": [
    "a = np.array([4, -5, 1])\n",
    "b = np.array([2, 4, 3])\n",
    "\n",
    "c = a - b\n",
    "print(c)"
   ]
  },
  {
   "cell_type": "markdown",
   "id": "be9daa7b",
   "metadata": {},
   "source": [
    "Multplication vectors 1D * 1D"
   ]
  },
  {
   "cell_type": "code",
   "execution_count": 7,
   "id": "73e65c3b",
   "metadata": {},
   "outputs": [
    {
     "name": "stdout",
     "output_type": "stream",
     "text": [
      "[ 2 12 35]\n"
     ]
    }
   ],
   "source": [
    "a = np.array([2, 4, 7])\n",
    "b = np.array([1, 3, 5])\n",
    "\n",
    "c = a * b\n",
    "print(c)"
   ]
  },
  {
   "cell_type": "markdown",
   "id": "5dd975db",
   "metadata": {},
   "source": [
    "Division vectors 1D / 1D"
   ]
  },
  {
   "cell_type": "code",
   "execution_count": 9,
   "id": "c09c482a",
   "metadata": {},
   "outputs": [
    {
     "name": "stdout",
     "output_type": "stream",
     "text": [
      "[ 0.66666667  3.5        11.        ]\n"
     ]
    }
   ],
   "source": [
    "a = np.array([4, 7, 11])\n",
    "b = np.array([6, 2, 1])\n",
    "\n",
    "c = a / b\n",
    "print(c)"
   ]
  },
  {
   "cell_type": "markdown",
   "id": "5956d8a6",
   "metadata": {},
   "source": [
    "Pontentiation vectors 1D / 1D"
   ]
  },
  {
   "cell_type": "code",
   "execution_count": 10,
   "id": "b9623098",
   "metadata": {},
   "outputs": [
    {
     "name": "stdout",
     "output_type": "stream",
     "text": [
      "[      1      81 1679616]\n"
     ]
    }
   ],
   "source": [
    "a = np.array([1, 3, 6])\n",
    "b = np.array([2, 4, 8])\n",
    "\n",
    "c = a ** b\n",
    "print(c)"
   ]
  },
  {
   "cell_type": "markdown",
   "id": "3ca8b70e",
   "metadata": {},
   "source": [
    "Magnitude or norm vector 1D\n",
    "\n",
    "$v = [1, 2, 4]$\n",
    "\n",
    "$||v|| = \\sqrt{(1 + 2 + 3)^2} = 9$."
   ]
  },
  {
   "cell_type": "code",
   "execution_count": 11,
   "id": "161cfb1d",
   "metadata": {},
   "outputs": [
    {
     "name": "stdout",
     "output_type": "stream",
     "text": [
      "54.772255750516614\n"
     ]
    }
   ],
   "source": [
    "vector = np.array([10, 20, 40, 30])\n",
    "vector_m = np.linalg.norm(vector)\n",
    "print(vector_m)"
   ]
  },
  {
   "cell_type": "markdown",
   "id": "15856ce7",
   "metadata": {},
   "source": [
    "Dot product vectors 1D . 1D\n",
    "element-wise\n",
    "\n",
    "$\\sum{a*b}$"
   ]
  },
  {
   "cell_type": "code",
   "execution_count": 13,
   "id": "705021a1",
   "metadata": {},
   "outputs": [
    {
     "name": "stdout",
     "output_type": "stream",
     "text": [
      "28\n"
     ]
    }
   ],
   "source": [
    "a = np.array([1, 2, 4])\n",
    "b = np.array([2, 3, 5])\n",
    "\n",
    "c = np.dot(a, b) # or a @ b\n",
    "print(c)"
   ]
  },
  {
   "cell_type": "markdown",
   "id": "195ced08",
   "metadata": {},
   "source": [
    "Matrices 2D array operations"
   ]
  },
  {
   "cell_type": "markdown",
   "id": "9f03880a",
   "metadata": {},
   "source": [
    "Addiction matrices 2D + 2D"
   ]
  },
  {
   "cell_type": "code",
   "execution_count": null,
   "id": "468dd6bf",
   "metadata": {},
   "outputs": [
    {
     "name": "stdout",
     "output_type": "stream",
     "text": [
      "[[ 6  8]\n",
      " [10 12]]\n"
     ]
    }
   ],
   "source": [
    "A = np.array([[1, 2], [3, 4]])\n",
    "B = np.array([[5, 6], [7, 8]])\n",
    "\n",
    "C = A + B # or np.add(A, B)\n",
    "print(C)"
   ]
  },
  {
   "cell_type": "markdown",
   "id": "3783caf2",
   "metadata": {},
   "source": [
    "Substraction matrices 2D - 2D"
   ]
  },
  {
   "cell_type": "code",
   "execution_count": 16,
   "id": "49195ae8",
   "metadata": {},
   "outputs": [
    {
     "name": "stdout",
     "output_type": "stream",
     "text": [
      "[[-4 -4]\n",
      " [-4 -4]]\n"
     ]
    }
   ],
   "source": [
    "A = np.array([[1, 2], [3, 4]])\n",
    "B = np.array([[5, 6], [7, 8]])\n",
    "\n",
    "C = A - B # or np.subtract(A, B)\n",
    "print(C)"
   ]
  },
  {
   "cell_type": "markdown",
   "id": "8415161d",
   "metadata": {},
   "source": [
    "Multiplication matrices 2D * 2D (Hadamard product)"
   ]
  },
  {
   "cell_type": "code",
   "execution_count": null,
   "id": "06e009b2",
   "metadata": {},
   "outputs": [
    {
     "name": "stdout",
     "output_type": "stream",
     "text": [
      "[[ 5 12]\n",
      " [21 32]]\n"
     ]
    }
   ],
   "source": [
    "A = np.array([[1, 2], [3, 4]])\n",
    "B = np.array([[5, 6], [7, 8]])\n",
    "\n",
    "C = A * B # or np.multiply(A, B)\n",
    "print(C)"
   ]
  },
  {
   "cell_type": "markdown",
   "id": "d450e937",
   "metadata": {},
   "source": [
    "Dot Product matrices 2D * 2D\n",
    "\n",
    "Measures similarity (cosine similarity uses it)."
   ]
  },
  {
   "cell_type": "code",
   "execution_count": null,
   "id": "b930760a",
   "metadata": {},
   "outputs": [
    {
     "name": "stdout",
     "output_type": "stream",
     "text": [
      "[[19 22]\n",
      " [43 50]]\n"
     ]
    }
   ],
   "source": [
    "A = np.array([[1, 2], [3, 4]])\n",
    "B = np.array([[5, 6], [7, 8]])\n",
    "\n",
    "C = np.dot(A, B) # or A @ B\n",
    "\n",
    "print(C)"
   ]
  },
  {
   "cell_type": "markdown",
   "id": "448f893e",
   "metadata": {},
   "source": [
    "Transpose matrix 2D\n",
    "\n",
    "flips rows and columns: $A^T[i][j] = A[j][i]$"
   ]
  },
  {
   "cell_type": "code",
   "execution_count": null,
   "id": "39fcbc2e",
   "metadata": {},
   "outputs": [
    {
     "name": "stdout",
     "output_type": "stream",
     "text": [
      "[[1 3]\n",
      " [2 4]]\n"
     ]
    }
   ],
   "source": [
    "A = np.array([[1, 2], [3, 4]])\n",
    "A_transpose = A.T\n",
    "\n",
    "print(A_transpose)"
   ]
  },
  {
   "cell_type": "code",
   "execution_count": null,
   "id": "737813db",
   "metadata": {},
   "outputs": [
    {
     "name": "stdout",
     "output_type": "stream",
     "text": [
      "[[1. 3.]\n",
      " [2. 4.]]\n"
     ]
    }
   ],
   "source": [
    "A = np.array([[1, 2], \n",
    "              [3, 4]])\n",
    "\n",
    "A_t = np.zeros((A.shape[0], A.shape[1]))\n",
    "\n",
    "# Manually compute the transpose of A\n",
    "for i in range(A.shape[0]):\n",
    "  for j in range(A.shape[1]):\n",
    "    A_t[i, j] = A[j, i]\n",
    "\n",
    "print(A_t)"
   ]
  },
  {
   "cell_type": "markdown",
   "id": "79e309da",
   "metadata": {},
   "source": [
    "Inverse of the matrix 2D\n",
    "$A^{-1}$\n",
    "\n",
    "only square, non-singular matrices have inverses\n",
    "use case: Linear regression $β = (X^TX)^{-1}X^Ty$"
   ]
  },
  {
   "cell_type": "code",
   "execution_count": 29,
   "id": "6d703895",
   "metadata": {},
   "outputs": [
    {
     "name": "stdout",
     "output_type": "stream",
     "text": [
      "-36.000000000000014\n",
      "[[-0.25        0.5        -0.25      ]\n",
      " [ 2.25       -3.5         1.58333333]\n",
      " [-0.25        0.5        -0.13888889]]\n"
     ]
    }
   ],
   "source": [
    "A = np.array([[11, 2, 3], [3, 1, 6], [-9, 0, 9]])\n",
    "\n",
    "A_inv = np.linalg.inv(A)\n",
    "print(np.linalg.det(A))\n",
    "print(A_inv)"
   ]
  },
  {
   "cell_type": "markdown",
   "id": "99791256",
   "metadata": {},
   "source": [
    "3. System of linear equations\n",
    "* $Ax = b$\n",
    "* A: matrix of features, x: vector of weights, b: outcomes\n",
    "* Use case: Solving regression equations, computing best-fit line\n",
    "* Gaussian Elimination: step-by-step row operations\n",
    "* Matrix Inversion: when A is invertible\n",
    "* Least squares: when no exact solution (more equations than unknowns)\n",
    "\n",
    "$$\n",
    "2x+3y=8\n",
    "$$\n",
    "$$\n",
    "4x+y=7\n",
    "$$"
   ]
  },
  {
   "cell_type": "code",
   "execution_count": null,
   "id": "66e92bf9",
   "metadata": {},
   "outputs": [
    {
     "name": "stdout",
     "output_type": "stream",
     "text": [
      "[1.3 1.8]\n"
     ]
    }
   ],
   "source": [
    "# Ax = b\n",
    "A = np.array([[2, 3], [4, 1]])\n",
    "# constants\n",
    "b = np.array([8, 7])\n",
    "\n",
    "x = np.linalg.solve(A, b)\n",
    "print(x)\n",
    "\n",
    "# singular matrix\n",
    "# np.linalg.lstsq(A, b)  # Use this for least squares solution if A is not square or singular"
   ]
  },
  {
   "cell_type": "markdown",
   "id": "67062bb8",
   "metadata": {},
   "source": [
    "4. Linear transformations\n",
    "* A matrix A transform a vector x -> Ax\n",
    "* Geometrically, it rotates, scales, or skews vector\n",
    "* Use case: PCA transform data to new axes aligned with maximum variance\n",
    "\n",
    " \n",
    "$𝑇: R^n → R^m$\n",
    "\n",
    "$𝑇(x) = Ax$"
   ]
  },
  {
   "cell_type": "code",
   "execution_count": 32,
   "id": "0c848076",
   "metadata": {},
   "outputs": [
    {
     "name": "stdout",
     "output_type": "stream",
     "text": [
      "Transformed vector T(x): [2 3]\n"
     ]
    }
   ],
   "source": [
    "# Define a 2x2 matrix A (rotation, scaling, etc.)\n",
    "A = np.array([[2, 0], [0, 3]])\n",
    "# Define a 1D vector x\n",
    "x = np.array([1, 1])\n",
    "\n",
    "# Linear transformation T(x) = Ax\n",
    "T_x = A @ x\n",
    "\n",
    "print(\"Transformed vector T(x):\", T_x)"
   ]
  },
  {
   "cell_type": "code",
   "execution_count": 33,
   "id": "57ad9ff6",
   "metadata": {},
   "outputs": [
    {
     "data": {
      "image/png": "[encoded data removed]",
      "text/plain": [
       "<Figure size 640x480 with 1 Axes>"
      ]
     },
     "metadata": {},
     "output_type": "display_data"
    }
   ],
   "source": [
    "# Original vectors\n",
    "vectors = np.array([[1, 0], [0, 1]])\n",
    "origin = np.zeros((2, 2))\n",
    "\n",
    "# Transformation matrix\n",
    "A = np.array([[2, 1],\n",
    "              [1, 2]])\n",
    "\n",
    "# Apply transformation\n",
    "transformed = A @ vectors\n",
    "\n",
    "# Plot\n",
    "plt.quiver(*origin, vectors[0], vectors[1], color=['r', 'b'], angles='xy', scale_units='xy', scale=1, label=\"Original\")\n",
    "plt.quiver(*origin, transformed[0], transformed[1], color=['g', 'purple'], angles='xy', scale_units='xy', scale=1, label=\"Transformed\")\n",
    "plt.xlim(-1, 4)\n",
    "plt.ylim(-1, 4)\n",
    "plt.grid()\n",
    "plt.gca().set_aspect('equal')\n",
    "plt.title(\"Linear Transformation by Matrix A\")\n",
    "plt.show()\n"
   ]
  }
 ],
 "metadata": {
  "kernelspec": {
   "display_name": "base",
   "language": "python",
   "name": "python3"
  },
  "language_info": {
   "codemirror_mode": {
    "name": "ipython",
    "version": 3
   },
   "file_extension": ".py",
   "mimetype": "text/x-python",
   "name": "python",
   "nbconvert_exporter": "python",
   "pygments_lexer": "ipython3",
   "version": "3.12.9"
  }
 },
 "nbformat": 4,
 "nbformat_minor": 5
}

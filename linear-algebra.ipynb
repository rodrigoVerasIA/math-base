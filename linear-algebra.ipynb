{
 "cells": [
  {
   "cell_type": "markdown",
   "id": "13ee29bf",
   "metadata": {
    "vscode": {
     "languageId": "plaintext"
    }
   },
   "source": [
    "Vectors"
   ]
  },
  {
   "cell_type": "code",
   "execution_count": 2,
   "id": "b18eeee8",
   "metadata": {},
   "outputs": [
    {
     "name": "stdout",
     "output_type": "stream",
     "text": [
      "[ 5 12]\n"
     ]
    }
   ],
   "source": [
    "import numpy as np\n",
    "\n",
    "u = np.array([5, 12])\n",
    "print(u)"
   ]
  },
  {
   "cell_type": "code",
   "execution_count": 3,
   "id": "7d5ebc48",
   "metadata": {},
   "outputs": [
    {
     "name": "stdout",
     "output_type": "stream",
     "text": [
      "5.0\n"
     ]
    }
   ],
   "source": [
    "v = np.array([3, 4])\n",
    "magnitude_v = np.linalg.norm(v)\n",
    "print(magnitude_v)"
   ]
  },
  {
   "cell_type": "code",
   "execution_count": 4,
   "id": "7d467a46",
   "metadata": {},
   "outputs": [
    {
     "name": "stdout",
     "output_type": "stream",
     "text": [
      "Dot product of a and b: 11\n",
      "a and b are not orthogonal\n"
     ]
    }
   ],
   "source": [
    "# Dot product and orthogonal projection\n",
    "\n",
    "a = np.array([1, 2])\n",
    "b = np.array([3, 4])\n",
    "\n",
    "dot_product = np.dot(a, b)\n",
    "\n",
    "print(\"Dot product of a and b:\", dot_product)\n",
    "\n",
    "if dot_product == 0:\n",
    "    print(\"a and b are orthogonal\")\n",
    "else:\n",
    "    print(\"a and b are not orthogonal\")"
   ]
  },
  {
   "cell_type": "code",
   "execution_count": 5,
   "id": "4bf448ac",
   "metadata": {},
   "outputs": [
    {
     "name": "stdout",
     "output_type": "stream",
     "text": [
      "Matrix A:\n",
      " [[1 2]\n",
      " [3 4]]\n",
      "Matrix B:\n",
      " [[5 6]\n",
      " [7 8]]\n",
      "Sum of A and B:\n",
      " [[ 6  8]\n",
      " [10 12]]\n"
     ]
    }
   ],
   "source": [
    "A = np.array([[1, 2], [3, 4]])\n",
    "B = np.array([[5, 6], [7, 8]])\n",
    "\n",
    "print(\"Matrix A:\\n\", A)\n",
    "print(\"Matrix B:\\n\", B)\n",
    "\n",
    "C = A + B\n",
    "print(\"Sum of A and B:\\n\", C)"
   ]
  },
  {
   "cell_type": "code",
   "execution_count": null,
   "id": "e5b35f5a",
   "metadata": {},
   "outputs": [
    {
     "name": "stdout",
     "output_type": "stream",
     "text": [
      "Product of A and B:\n",
      " [[19 22]\n",
      " [43 50]]\n"
     ]
    }
   ],
   "source": [
    "# Matrix multiplication\n",
    "D = A @ B # or np.dot(A, B)\n",
    "print(\"Product of A and B:\\n\", D)"
   ]
  },
  {
   "cell_type": "code",
   "execution_count": 7,
   "id": "b17b094f",
   "metadata": {},
   "outputs": [
    {
     "name": "stdout",
     "output_type": "stream",
     "text": [
      "Transpose of A:\n",
      " [[1 3]\n",
      " [2 4]]\n"
     ]
    }
   ],
   "source": [
    "# Transpose of a matrix\n",
    "A_transpose = A.T\n",
    "print(\"Transpose of A:\\n\", A_transpose)"
   ]
  },
  {
   "cell_type": "code",
   "execution_count": 8,
   "id": "668249a6",
   "metadata": {},
   "outputs": [
    {
     "name": "stdout",
     "output_type": "stream",
     "text": [
      "Identity matrix I:\n",
      " [[1. 0.]\n",
      " [0. 1.]]\n",
      "Inverse of A:\n",
      " [[-2.   1. ]\n",
      " [ 1.5 -0.5]]\n",
      "A * A_inv:\n",
      " [[1.0000000e+00 0.0000000e+00]\n",
      " [8.8817842e-16 1.0000000e+00]]\n"
     ]
    }
   ],
   "source": [
    "# Identity and Inverse\n",
    "I = np.eye(2)  # Identity matrix of size 2x2\n",
    "print(\"Identity matrix I:\\n\", I)\n",
    "\n",
    "A_inv = np.linalg.inv(A)\n",
    "print(\"Inverse of A:\\n\", A_inv)\n",
    "\n",
    "# Check A * A_inv = I\n",
    "print(\"A * A_inv:\\n\", A @ A_inv)"
   ]
  },
  {
   "cell_type": "code",
   "execution_count": 9,
   "id": "b6117f13",
   "metadata": {},
   "outputs": [
    {
     "name": "stdout",
     "output_type": "stream",
     "text": [
      "Determinant of A: -2.0000000000000004\n",
      "Rank of A: 2\n"
     ]
    }
   ],
   "source": [
    "det_A = np.linalg.det(A)\n",
    "print(\"Determinant of A:\", det_A)\n",
    "\n",
    "rank_A = np.linalg.matrix_rank(A)\n",
    "print(\"Rank of A:\", rank_A)"
   ]
  }
 ],
 "metadata": {
  "kernelspec": {
   "display_name": "base",
   "language": "python",
   "name": "python3"
  },
  "language_info": {
   "codemirror_mode": {
    "name": "ipython",
    "version": 3
   },
   "file_extension": ".py",
   "mimetype": "text/x-python",
   "name": "python",
   "nbconvert_exporter": "python",
   "pygments_lexer": "ipython3",
   "version": "3.12.9"
  }
 },
 "nbformat": 4,
 "nbformat_minor": 5
}
